{
 "cells": [
  {
   "cell_type": "markdown",
   "metadata": {},
   "source": [
    "# Module 4: Strings\n",
    "\n",
    "To declare a string you can use **' '** or **\" \"**, but there are certain cases in which it is recommended to use each declaration\n",
    "\n",
    "* **'** “Ogres are like onions.” said Shrek **'**: When there are quotation marks.\n",
    "* **\"** It's my life **\"**\n",
    "* **\"\"\"** “That’ll do Donkey, that’ll do.” said Shrek ***\"\"\"***: triple quotation mark when there are quotation marks and apostrophes.\n",
    "* **\"\"\"** triple quotation marks are also used for multiline strings.\n",
    "\n",
    "There are different methods for strings:\n",
    "* **.title()**: Capitalize the first letter of each word.\n",
    "* **.split()**: Split any string using any character (space by default).\n",
    "* **.find()**: Find if there is a certain string in another string.\n",
    "* **.count()** Count how many times a cetain string is in another string.\n",
    "* **.lower()**: Convert the string to lowercase.\n",
    "* **.upper()**: Convert the string to uppercase.\n",
    "* **.isnumeric()**: Return true if the string only contains numbers.\n",
    "* **.startswith()**: Return true if the string starts with a certain string.\n",
    "* **.endswith()**: Return true if the string ends with a certain string.\n",
    "* **.replace()**: Replace a piece of a string with other string.\n",
    "* **.join()**: Join two or more strings in a string.\n",
    "\n",
    "\n",
    "There are many ways to format:\n",
    "\n",
    "* **%**: In the string- %s for strings, %f for float, %i for integers and after the string % my_variable\n",
    "* **.format()**: In the string write {variable} and after the string .format(variable='Something') \n",
    "* **f''**: Only use f at the beginning of the string and inside the string you can put {python code}. \n"
   ]
  },
  {
   "cell_type": "markdown",
   "metadata": {},
   "source": [
    "##  Exercise 1: Transform strings\n",
    "\n",
    "Below is a code that divide a paragraph in sentences, show only the sentences that have a keyword and replacing C with Celsius "
   ]
  },
  {
   "cell_type": "code",
   "execution_count": 1,
   "metadata": {},
   "outputs": [],
   "source": [
    "# Declare the string.\n",
    "paragraph = \"\"\"Interesting facts about the Moon. The Moon is Earth's only satellite. There are several interesting facts about the Moon and how it affects life here on Earth. \n",
    "On average, the Moon moves 4cm away from the Earth every year. This yearly drift is not significant enough to cause immediate effects on Earth. The highest daylight temperature of the Moon is 127 C.\"\"\""
   ]
  },
  {
   "cell_type": "code",
   "execution_count": 2,
   "metadata": {},
   "outputs": [],
   "source": [
    "# Separe the paragraph in sentences.\n",
    "sentences = paragraph.split('. ')"
   ]
  },
  {
   "cell_type": "code",
   "execution_count": 3,
   "metadata": {},
   "outputs": [],
   "source": [
    "# Define keywords in a list\n",
    "keywords = ['average', 'temperature', 'distance']"
   ]
  },
  {
   "cell_type": "code",
   "execution_count": 4,
   "metadata": {},
   "outputs": [
    {
     "name": "stdout",
     "output_type": "stream",
     "text": [
      "\n",
      "On average, the Moon moves 4cm away from the Earth every year\n",
      "\n",
      "The highest daylight temperature of the Moon is 127 C.\n",
      "\n"
     ]
    }
   ],
   "source": [
    "# print all the sentences that have a keyword.\n",
    "for sentence in sentences:\n",
    "    for keyword in keywords:\n",
    "        if keyword in sentence:\n",
    "            print(sentence + '\\n')"
   ]
  },
  {
   "cell_type": "code",
   "execution_count": 5,
   "metadata": {},
   "outputs": [
    {
     "name": "stdout",
     "output_type": "stream",
     "text": [
      "\n",
      "On average, the Moon moves 4cm away from the Earth every year\n",
      "\n",
      "The highest daylight temperature of the Moon is 127 Celsius.\n",
      "\n"
     ]
    }
   ],
   "source": [
    "# print all the sentences that have a keyword changing C to Celsius\n",
    "for sentence in sentences:\n",
    "    for keyword in keywords:\n",
    "        if keyword in sentence:\n",
    "            print(sentence.replace(' C.', ' Celsius.') + '\\n' )\n",
    "            break\n"
   ]
  },
  {
   "cell_type": "markdown",
   "metadata": {},
   "source": [
    "## Exercise 2: Formatting Strings\n",
    "\n",
    "Bellow is a code that use different formats to change the data of a string. "
   ]
  },
  {
   "cell_type": "code",
   "execution_count": 7,
   "metadata": {},
   "outputs": [],
   "source": [
    "# Data\n",
    "name = \"Moon\"\n",
    "gravity = 0.00162 # in kms\n",
    "planet = \"Earth\""
   ]
  },
  {
   "cell_type": "code",
   "execution_count": 9,
   "metadata": {},
   "outputs": [],
   "source": [
    "# Create a title\n",
    "title = f'Gravity data about {name}'"
   ]
  },
  {
   "cell_type": "code",
   "execution_count": 10,
   "metadata": {},
   "outputs": [],
   "source": [
    "# Create the template\n",
    "facts = f\"\"\"{'-'*80} \n",
    "Planet name: {planet} \n",
    "Gravity on {name}: {gravity * 1000} m/s2 \n",
    "\"\"\""
   ]
  },
  {
   "cell_type": "code",
   "execution_count": 11,
   "metadata": {},
   "outputs": [
    {
     "name": "stdout",
     "output_type": "stream",
     "text": [
      "Gravity Data About Moon\n",
      "-------------------------------------------------------------------------------- \n",
      "Planet name: Earth \n",
      "Gravity on Moon: 1.6199999999999999 m/s2 \n",
      "\n"
     ]
    }
   ],
   "source": [
    "# Join both strings\n",
    "facts = f'{title.title()}\\n{facts}' \n",
    "print(facts)"
   ]
  },
  {
   "cell_type": "code",
   "execution_count": 12,
   "metadata": {},
   "outputs": [],
   "source": [
    "# New Data\n",
    "planet = 'Mars '\n",
    "gravity  = 0.00143\n",
    "name = 'Ganymede'"
   ]
  },
  {
   "cell_type": "code",
   "execution_count": 14,
   "metadata": {},
   "outputs": [
    {
     "name": "stdout",
     "output_type": "stream",
     "text": [
      "Gravity Data About Moon\n",
      "-------------------------------------------------------------------------------- \n",
      "Planet name: Earth \n",
      "Gravity on Moon: 1.6199999999999999 m/s2 \n",
      "\n"
     ]
    }
   ],
   "source": [
    "# Same facts\n",
    "print(facts)"
   ]
  },
  {
   "cell_type": "code",
   "execution_count": 16,
   "metadata": {},
   "outputs": [
    {
     "name": "stdout",
     "output_type": "stream",
     "text": [
      "\n",
      "Gravity data on: Ganymede\n",
      "-------------------------------------------------------------------------------\n",
      "Planet name: Mars \n",
      "Gravity on Ganymede: 0.00143 m/s2\n",
      "\n"
     ]
    }
   ],
   "source": [
    "new_facts = \"\"\"\n",
    "Gravity data on: {name}\n",
    "-------------------------------------------------------------------------------\n",
    "Planet name: {planet}\n",
    "Gravity on {name}: {gravity} m/s2\n",
    "\"\"\"\n",
    "print(new_facts.format(name=name, planet=planet, gravity=gravity))"
   ]
  },
  {
   "cell_type": "code",
   "execution_count": 17,
   "metadata": {},
   "outputs": [
    {
     "name": "stdout",
     "output_type": "stream",
     "text": [
      "\n",
      "Gravity data on: Ganymede\n",
      "-------------------------------------------------------------------------------\n",
      "Planet name: Mars \n",
      "Gravity on Ganymede: 1.4300000000000002 m/s2\n",
      "\n"
     ]
    }
   ],
   "source": [
    "print(new_facts.format(name=name, planet=planet, gravity=gravity*1000))"
   ]
  }
 ],
 "metadata": {
  "interpreter": {
   "hash": "0b2d95e8c77eca16c9bd5597865d217069b09f16b047d66c3b307a843f09b9e6"
  },
  "kernelspec": {
   "display_name": "Python 3.9.5 64-bit",
   "language": "python",
   "name": "python3"
  },
  "language_info": {
   "codemirror_mode": {
    "name": "ipython",
    "version": 3
   },
   "file_extension": ".py",
   "mimetype": "text/x-python",
   "name": "python",
   "nbconvert_exporter": "python",
   "pygments_lexer": "ipython3",
   "version": "3.9.5"
  },
  "orig_nbformat": 4
 },
 "nbformat": 4,
 "nbformat_minor": 2
}
