{
 "cells": [
  {
   "cell_type": "markdown",
   "metadata": {},
   "source": [
    "# Module 9: Functions\n",
    "\n",
    "A function is declared with the reserved word def, and there are different cases.\n",
    "\n",
    "* **def my_function():** The function does not need arguments to execute itself.\n",
    "* **def my_function(value)** The function needs arguments to execute itself.\n",
    "* **def my_function(value=something)** The function has a default value.\n",
    "* **def my_function(*args)** The function accepts any number and type of arguments.\n",
    "* **def my_function( ** kwargs )** The function accepts any number and type of arguments as a dictionary.\n",
    "\n",
    "If at the end of the function you don't return any value, the function will return **None**."
   ]
  },
  {
   "cell_type": "markdown",
   "metadata": {},
   "source": [
    "## Exercise 1: Working with arguments in functions\n",
    "\n"
   ]
  },
  {
   "cell_type": "code",
   "execution_count": 1,
   "metadata": {},
   "outputs": [],
   "source": [
    "# Define the function\n",
    "def fuel(fuel_tank1, fuel_tank2, fuel_tank3):\n",
    "    average = (fuel_tank1 + fuel_tank2 + fuel_tank3) / 3\n",
    "    return f\"\"\"Fuel Report:\n",
    "    Average: {average}%\n",
    "    Fuel tank #1: {fuel_tank1}%\n",
    "    Fuel tank #2: {fuel_tank2}%\n",
    "    Fuel tank #3: {fuel_tank3}% \n",
    "    \"\"\""
   ]
  },
  {
   "cell_type": "code",
   "execution_count": 2,
   "metadata": {},
   "outputs": [
    {
     "name": "stdout",
     "output_type": "stream",
     "text": [
      "Fuel Report:\n",
      "    Average: 60.0%\n",
      "    Fuel tank #1: 60%\n",
      "    Fuel tank #2: 60%\n",
      "    Fuel tank #3: 60% \n",
      "    \n"
     ]
    }
   ],
   "source": [
    "# print the report.\n",
    "print(fuel(60, 60, 60))"
   ]
  },
  {
   "cell_type": "code",
   "execution_count": 3,
   "metadata": {},
   "outputs": [],
   "source": [
    "# Define average function\n",
    "def average( fuel_levels ):\n",
    "    return sum(fuel_levels) / len(fuel_levels)"
   ]
  },
  {
   "cell_type": "code",
   "execution_count": 5,
   "metadata": {},
   "outputs": [
    {
     "name": "stdout",
     "output_type": "stream",
     "text": [
      "Fuel Report:\n",
      "    Average: 70.0%\n",
      "    Fuel tank #1: 60%\n",
      "    Fuel tank #2: 70%\n",
      "    Fuel tank #3: 80% \n",
      "    \n"
     ]
    }
   ],
   "source": [
    "# Update fuel function\n",
    "def fuel(fuel_tank1, fuel_tank2, fuel_tank3):\n",
    "    return f\"\"\"Fuel Report:\n",
    "    Average: {average([fuel_tank1, fuel_tank2, fuel_tank3])}%\n",
    "    Fuel tank #1: {fuel_tank1}%\n",
    "    Fuel tank #2: {fuel_tank2}%\n",
    "    Fuel tank #3: {fuel_tank3}% \n",
    "    \"\"\"\n",
    "print(fuel(60, 70, 80))"
   ]
  },
  {
   "cell_type": "markdown",
   "metadata": {},
   "source": [
    "## Exercise 2: Work with keyword arguments"
   ]
  },
  {
   "cell_type": "code",
   "execution_count": 6,
   "metadata": {},
   "outputs": [
    {
     "name": "stdout",
     "output_type": "stream",
     "text": [
      "\n",
      "    Mission to Moon\n",
      "    Travel time: 65 minutes\n",
      "    Fuel: 500000 gallons\n",
      "    \n"
     ]
    }
   ],
   "source": [
    "# Define a function that receives positional arguments.\n",
    "def mission_report(pre_launch_time, flight_time, destination, external_tank, internal_tank):\n",
    "    return f\"\"\"\n",
    "    Mission to {destination}\n",
    "    Travel time: {pre_launch_time + flight_time} minutes\n",
    "    Fuel: {external_tank + internal_tank} gallons\n",
    "    \"\"\"\n",
    "print(mission_report(14, 51, \"Moon\", 200000, 300000))"
   ]
  },
  {
   "cell_type": "code",
   "execution_count": 7,
   "metadata": {},
   "outputs": [
    {
     "name": "stdout",
     "output_type": "stream",
     "text": [
      "\n",
      "    Mission to Moon\n",
      "    Total travel time: 76 minutes\n",
      "    Total fuel left: 500000\n",
      "    \n"
     ]
    }
   ],
   "source": [
    "# Update the function with arguments\n",
    "def mission_report(destination, *minutes, **fuel_reservoirs):\n",
    "    return f\"\"\"\n",
    "    Mission to {destination}\n",
    "    Total travel time: {sum(minutes)} minutes\n",
    "    Total fuel left: {sum(fuel_reservoirs.values())}\n",
    "    \"\"\"\n",
    "print(mission_report(\"Moon\", 10, 15, 51, internal=300000, external=200000))"
   ]
  },
  {
   "cell_type": "code",
   "execution_count": 8,
   "metadata": {},
   "outputs": [
    {
     "name": "stdout",
     "output_type": "stream",
     "text": [
      "\n",
      "    Mission to Moon\n",
      "    Total travel time: 74 minutes\n",
      "    Total fuel left: 500000\n",
      "    internal tank --> 300000 gallons left\n",
      "external tank --> 200000 gallons left\n",
      "\n"
     ]
    }
   ],
   "source": [
    "# Update the function with kwarguments\n",
    "def mission_report(destination, *minutes, **fuel_reservoirs):\n",
    "    main_report = f\"\"\"\n",
    "    Mission to {destination}\n",
    "    Total travel time: {sum(minutes)} minutes\n",
    "    Total fuel left: {sum(fuel_reservoirs.values())}\n",
    "    \"\"\"\n",
    "    for tank_name, gallons in fuel_reservoirs.items():\n",
    "        main_report += f\"{tank_name} tank --> {gallons} gallons left\\n\"\n",
    "    return main_report\n",
    "print(mission_report(\"Moon\", 8, 11, 55, internal=300000, external=200000))"
   ]
  }
 ],
 "metadata": {
  "interpreter": {
   "hash": "0b2d95e8c77eca16c9bd5597865d217069b09f16b047d66c3b307a843f09b9e6"
  },
  "kernelspec": {
   "display_name": "Python 3.9.5 64-bit",
   "language": "python",
   "name": "python3"
  },
  "language_info": {
   "codemirror_mode": {
    "name": "ipython",
    "version": 3
   },
   "file_extension": ".py",
   "mimetype": "text/x-python",
   "name": "python",
   "nbconvert_exporter": "python",
   "pygments_lexer": "ipython3",
   "version": "3.9.5"
  },
  "orig_nbformat": 4
 },
 "nbformat": 4,
 "nbformat_minor": 2
}
