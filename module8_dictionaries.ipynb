{
 "cells": [
  {
   "cell_type": "markdown",
   "metadata": {},
   "source": [
    "# Module 8: Dictionaries\n",
    "\n",
    "To create a dictionary you have to declare it with **{ key : value }**.\n",
    "* You can get the elements by key, example: my_dictionary[' First_key '] that returns the element whose key is named ' First_key '.\n",
    "* You can also get the same element using my_dictionary.get(' First_key ').\n",
    "\n",
    "To modify values in a dictionary you can:\n",
    "* **my_dictionary.update({' new_key ' :  value  })**\n",
    "* **my_dictionary[ ' new_key ' ] = value**\n",
    "\n",
    "The most used methods are: \n",
    "\n",
    "* **my_dictionary.pop( ' key ' )**: Delete any desired key with its item.\n",
    "* **my_dictionary.keys()**: Return a list with the dictionary keys.\n",
    "* **my_dictionary.keys()**: Return a list with the dictionary values."
   ]
  },
  {
   "cell_type": "markdown",
   "metadata": {},
   "source": [
    "##  Exercise 1: Creating dictionaries\n",
    "\n"
   ]
  },
  {
   "cell_type": "code",
   "execution_count": 15,
   "metadata": {},
   "outputs": [],
   "source": [
    "# Declare the dictionary.\n",
    "planet = {\n",
    "    'name': 'Mars',\n",
    "    'moons': 2\n",
    "}"
   ]
  },
  {
   "cell_type": "code",
   "execution_count": 16,
   "metadata": {},
   "outputs": [
    {
     "name": "stdout",
     "output_type": "stream",
     "text": [
      "The number of moons that Mars has is: 2.\n"
     ]
    }
   ],
   "source": [
    "# print the data of the dictionary.\n",
    "print(f\"The number of moons that {planet['name']} has is: {planet['moons']}.\")"
   ]
  },
  {
   "cell_type": "code",
   "execution_count": 17,
   "metadata": {},
   "outputs": [],
   "source": [
    "# Add a new key to the dictionary\n",
    "planet['circumference']={\n",
    "    'polar': 6752,\n",
    "    'equatorial': 6792\n",
    "}"
   ]
  },
  {
   "cell_type": "code",
   "execution_count": 18,
   "metadata": {},
   "outputs": [
    {
     "name": "stdout",
     "output_type": "stream",
     "text": [
      "Mars has a polar circumference of: 6752km.\n"
     ]
    }
   ],
   "source": [
    "# print a dictionary value inside another dictionary\n",
    "print(f\"{planet['name']} has a polar circumference of: {planet['circumference']['polar']}km.\")"
   ]
  },
  {
   "cell_type": "markdown",
   "metadata": {},
   "source": [
    "## Exercise 2: Dynamic programming with dictionarie"
   ]
  },
  {
   "cell_type": "code",
   "execution_count": 19,
   "metadata": {},
   "outputs": [],
   "source": [
    "# Declare the dictionary\n",
    "planet_moons = {\n",
    "    'mercury': 0,\n",
    "    'venus': 0,\n",
    "    'earth': 1,\n",
    "    'mars': 2,\n",
    "    'jupiter': 79,\n",
    "    'saturn': 82,\n",
    "    'uranus': 27,\n",
    "    'neptune': 14,\n",
    "    'pluto': 5,\n",
    "    'haumea': 2,\n",
    "    'makemake': 1,\n",
    "    'eris': 1\n",
    "}"
   ]
  },
  {
   "cell_type": "code",
   "execution_count": 20,
   "metadata": {},
   "outputs": [
    {
     "name": "stdout",
     "output_type": "stream",
     "text": [
      "dict_values([0, 0, 1, 2, 79, 82, 27, 14, 5, 2, 1, 1])\n",
      "12\n"
     ]
    }
   ],
   "source": [
    "# Get the moons and the length of the key list\n",
    "moons = planet_moons.values()\n",
    "print(moons)\n",
    "planets = len(planet_moons.keys())\n",
    "print(planets)"
   ]
  },
  {
   "cell_type": "code",
   "execution_count": 21,
   "metadata": {},
   "outputs": [
    {
     "name": "stdout",
     "output_type": "stream",
     "text": [
      "214\n"
     ]
    }
   ],
   "source": [
    "# Count all the moons.\n",
    "total_moons = 0\n",
    "for planet_moon in moons:\n",
    "    total_moons += planet_moon\n",
    "print(total_moons)"
   ]
  },
  {
   "cell_type": "code",
   "execution_count": 22,
   "metadata": {},
   "outputs": [
    {
     "name": "stdout",
     "output_type": "stream",
     "text": [
      "17.833333333333332\n"
     ]
    }
   ],
   "source": [
    "# Get the average.\n",
    "average = total_moons / planets\n",
    "print(average)"
   ]
  }
 ],
 "metadata": {
  "interpreter": {
   "hash": "0b2d95e8c77eca16c9bd5597865d217069b09f16b047d66c3b307a843f09b9e6"
  },
  "kernelspec": {
   "display_name": "Python 3.9.5 64-bit",
   "language": "python",
   "name": "python3"
  },
  "language_info": {
   "codemirror_mode": {
    "name": "ipython",
    "version": 3
   },
   "file_extension": ".py",
   "mimetype": "text/x-python",
   "name": "python",
   "nbconvert_exporter": "python",
   "pygments_lexer": "ipython3",
   "version": "3.9.5"
  },
  "orig_nbformat": 4
 },
 "nbformat": 4,
 "nbformat_minor": 2
}
