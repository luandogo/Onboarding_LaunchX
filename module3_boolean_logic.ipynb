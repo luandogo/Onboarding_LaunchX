{
 "cells": [
  {
   "cell_type": "markdown",
   "metadata": {},
   "source": [
    "# Module 3: Boolean logic\n",
    "\n",
    "For Boolean logic, you will only have two results: **true** or **false**.\n",
    "\n",
    "There are many expressions to compare and these expressions return only **true** or **false**:\n",
    "\n",
    "\n",
    "* **a == b** Equal\n",
    "* **a != b** Different\n",
    "* **a < b** Less than\n",
    "* **a <= b** Less than or equal to\n",
    "* **a > b** Greater than\n",
    "* **a >= b** Greater than or equal to\n",
    "\n",
    "\n",
    "There are two important logical operators. the **and** operator and the **or** operator.\n",
    "\n",
    "* **and**: and operator will return true only when all conditions are true.\n",
    "* **or**: or operator returns true when at least one condition is true.\n"
   ]
  },
  {
   "cell_type": "markdown",
   "metadata": {},
   "source": [
    "##  Write **if**, **else**, and **elif** statement\n",
    "\n",
    "Below is a code that alerts you if an asteroid is approaching faster than 25km/s"
   ]
  },
  {
   "cell_type": "code",
   "execution_count": 7,
   "metadata": {},
   "outputs": [
    {
     "name": "stdout",
     "output_type": "stream",
     "text": [
      "Alert! An asteroid is approaching at a dangerous speed!\n"
     ]
    }
   ],
   "source": [
    "asteroid_speed = 49\n",
    "\n",
    "if asteroid_speed > 25:\n",
    "    print('Alert! An asteroid is approaching at a dangerous speed!')\n",
    "elif asteroid_speed > 20:\n",
    "    print(\"There may be an asteroid approaching, but don't worry\")\n",
    "else:\n",
    "    print('Have a nice day!')"
   ]
  },
  {
   "cell_type": "markdown",
   "metadata": {},
   "source": [
    "Bellow is a code that lets you know if you can see a light in the sky caused by an asteroid."
   ]
  },
  {
   "cell_type": "code",
   "execution_count": 8,
   "metadata": {},
   "outputs": [
    {
     "name": "stdout",
     "output_type": "stream",
     "text": [
      "Maybe other day you could see a light in the sky\n"
     ]
    }
   ],
   "source": [
    "asteroid_speed = 19\n",
    "\n",
    "if asteroid_speed > 25:\n",
    "    print('Alert! An asteroid is approaching at a dangerous speed!')\n",
    "elif asteroid_speed >= 20:\n",
    "    print('Look up! There is a light in the sky')\n",
    "else:\n",
    "    print('Maybe other day you could see a light in the sky')"
   ]
  },
  {
   "cell_type": "markdown",
   "metadata": {},
   "source": [
    "## Use of **and** and **or** operators\n",
    "\n",
    "Bellow is a code that lets you know more detailed information about when an asteroid is dangerous."
   ]
  },
  {
   "cell_type": "code",
   "execution_count": 14,
   "metadata": {},
   "outputs": [
    {
     "name": "stdout",
     "output_type": "stream",
     "text": [
      "Look up! There is a light in the sky\n"
     ]
    }
   ],
   "source": [
    "asteroid_speed = 25\n",
    "asteroid_size = 40\n",
    "\n",
    "if asteroid_speed > 25 and asteroid_size > 1000:\n",
    "    print('We are probably dead')\n",
    "elif asteroid_speed > 25 and asteroid_size > 25:\n",
    "    print('Alert! An asteroid is approaching at a dangerous speed!')\n",
    "elif asteroid_speed >= 20:\n",
    "    print('Look up! There is a light in the sky')\n",
    "else:\n",
    "    print('Maybe other day you could see a light in the sky')"
   ]
  }
 ],
 "metadata": {
  "interpreter": {
   "hash": "0b2d95e8c77eca16c9bd5597865d217069b09f16b047d66c3b307a843f09b9e6"
  },
  "kernelspec": {
   "display_name": "Python 3.9.5 64-bit",
   "language": "python",
   "name": "python3"
  },
  "language_info": {
   "codemirror_mode": {
    "name": "ipython",
    "version": 3
   },
   "file_extension": ".py",
   "mimetype": "text/x-python",
   "name": "python",
   "nbconvert_exporter": "python",
   "pygments_lexer": "ipython3",
   "version": "3.9.5"
  },
  "orig_nbformat": 4
 },
 "nbformat": 4,
 "nbformat_minor": 2
}
