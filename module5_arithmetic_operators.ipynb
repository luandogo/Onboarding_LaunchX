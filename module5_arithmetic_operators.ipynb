{
 "cells": [
  {
   "cell_type": "markdown",
   "metadata": {},
   "source": [
    "# Module 5: Math operations\n",
    "\n",
    "There are many operations in python. The most important are:\n",
    "\n",
    "* **Addition** a + b:  Adds two operands.\n",
    "* **Subtraction** a - b: Subtracts two operands.\n",
    "* **Multiplication** a * b: Multiplies two operands.\n",
    "* **Division (float)** a / b: Divides the first operand by the second.\n",
    "* **Division (floor)** a // b: Divides the first operand by the second.\n",
    "* **Modulus** a % b: Returns the remainder when first operand is divided by the second.\n",
    "* **Power** a ** b: Returns first raised to power second.\n",
    "\n",
    "To convert a string to a number:\n",
    "\n",
    "* **int(a)**: Converts the string to an integer.\n",
    "* **float(b)**: Converts the string to a float.\n",
    "\n",
    "You can also:\n",
    "* **abs(a)**: Get the absolut value of a number.\n",
    "* **round(a)**: Round a number."
   ]
  },
  {
   "cell_type": "markdown",
   "metadata": {},
   "source": [
    "##  Exercise 1: Use arithmetic operators\n"
   ]
  },
  {
   "cell_type": "code",
   "execution_count": 1,
   "metadata": {},
   "outputs": [],
   "source": [
    "# Declare the distance in km\n",
    "earth = 149597870\n",
    "jupiter = 778547200"
   ]
  },
  {
   "cell_type": "code",
   "execution_count": 3,
   "metadata": {},
   "outputs": [
    {
     "name": "stdout",
     "output_type": "stream",
     "text": [
      "628949330\n",
      "390577533.93\n"
     ]
    }
   ],
   "source": [
    "# Substract the distances and convert to miles\n",
    "distance = jupiter - earth\n",
    "print(distance)\n",
    "distance_miles =  distance * 0.621\n",
    "print(distance_miles)"
   ]
  },
  {
   "cell_type": "markdown",
   "metadata": {},
   "source": [
    "## Exercise 2: Convert strings to numbers and use absolute values"
   ]
  },
  {
   "cell_type": "code",
   "execution_count": 5,
   "metadata": {},
   "outputs": [],
   "source": [
    "# Get two values\n",
    "planet1 = input('Distance from sun to the first planet') \n",
    "planet2 = input('Distance from sun to the second planet')   "
   ]
  },
  {
   "cell_type": "code",
   "execution_count": 6,
   "metadata": {},
   "outputs": [],
   "source": [
    "# Convert the keyboard value to a integer\n",
    "planet1 = int(planet1)\n",
    "planet2 = int(planet2)"
   ]
  },
  {
   "cell_type": "code",
   "execution_count": 9,
   "metadata": {},
   "outputs": [
    {
     "name": "stdout",
     "output_type": "stream",
     "text": [
      "2093900000\n"
     ]
    }
   ],
   "source": [
    "# Substract the distances, get the absolut value and and convert to miles\n",
    "distance = abs(planet2 - planet1)\n",
    "print(distance)\n",
    "distance_miles = distance * 0.621\n"
   ]
  }
 ],
 "metadata": {
  "interpreter": {
   "hash": "0b2d95e8c77eca16c9bd5597865d217069b09f16b047d66c3b307a843f09b9e6"
  },
  "kernelspec": {
   "display_name": "Python 3.9.5 64-bit",
   "language": "python",
   "name": "python3"
  },
  "language_info": {
   "codemirror_mode": {
    "name": "ipython",
    "version": 3
   },
   "file_extension": ".py",
   "mimetype": "text/x-python",
   "name": "python",
   "nbconvert_exporter": "python",
   "pygments_lexer": "ipython3",
   "version": "3.9.5"
  },
  "orig_nbformat": 4
 },
 "nbformat": 4,
 "nbformat_minor": 2
}
