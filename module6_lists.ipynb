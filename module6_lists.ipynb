{
 "cells": [
  {
   "cell_type": "markdown",
   "metadata": {},
   "source": [
    "# Module 6: Lists\n",
    "\n",
    "To create a list you have to declare it with **[]**.\n",
    "You can get the elements by index, example: my_list[2] that brings you the third element of the list (third because lists start in 0).\n",
    "You can also change the lists values: my_list[2] = 5, my_list[2] = 'And now I'm a string'.\n",
    "\n",
    "The most used methods are: \n",
    "\n",
    "* **len(my_list)**: Returns the number of elements that your list has.\n",
    "* **my_list.append(something)**: Add any element to the end of the list.\n",
    "* **my_list.insert(index, something)**: Add any element in the desired place.\n",
    "* **my_list.pop(index)**: Delete any desired item. The default index is -1.\n",
    "* **my_list.index(value)**: Returns the first index of the desired value.\n",
    "* **min(my_list)**: Returns the minimum value of a list of numbers.\n",
    "* **max(my_list)**: Returns the maximum value of a list of numbers.\n",
    "* **[a : b]**: Return that range of numbers (if there is no **a** it will start from the beginning, if there is no **b** it will go to the end).\n",
    "* **my_list.sort()**: Sort the list by sort algorithm."
   ]
  },
  {
   "cell_type": "markdown",
   "metadata": {},
   "source": [
    "##  Exercise 1: Create and use lists\n",
    "\n"
   ]
  },
  {
   "cell_type": "code",
   "execution_count": 2,
   "metadata": {},
   "outputs": [
    {
     "name": "stdout",
     "output_type": "stream",
     "text": [
      "There are 8 planets\n"
     ]
    }
   ],
   "source": [
    "# Declare the list and print it.\n",
    "planets =  ['Mercury', 'Venus', 'Earth', 'Mars', 'Jupiter', 'Saturn', 'Uranus', 'Neptune']\n",
    "print(f'There are {len(planets)} planets')"
   ]
  },
  {
   "cell_type": "code",
   "execution_count": 3,
   "metadata": {},
   "outputs": [
    {
     "name": "stdout",
     "output_type": "stream",
     "text": [
      "There are 9 and the last planet is Pluto\n"
     ]
    }
   ],
   "source": [
    "# Add Pluto and print how many planets there are and the last planet.\n",
    "planets.append('Pluto')\n",
    "print(f'There are {len(planets)} and the last planet is {planets[-1]}')"
   ]
  },
  {
   "cell_type": "markdown",
   "metadata": {},
   "source": [
    "## Exercise 2: Working with data from a list"
   ]
  },
  {
   "cell_type": "code",
   "execution_count": 4,
   "metadata": {},
   "outputs": [],
   "source": [
    "# Declare the list\n",
    "planets = ['Mercury', 'Venus', 'Earth', 'Mars', 'Jupiter', 'Saturn', 'Uranus', 'Neptune']"
   ]
  },
  {
   "cell_type": "code",
   "execution_count": 5,
   "metadata": {},
   "outputs": [],
   "source": [
    "# Add a planet name\n",
    "planet = input('Please enter a planet name.').title()"
   ]
  },
  {
   "cell_type": "code",
   "execution_count": 6,
   "metadata": {},
   "outputs": [],
   "source": [
    "# Get the planet's index\n",
    "planet_index = planets.index(planet)"
   ]
  },
  {
   "cell_type": "code",
   "execution_count": 7,
   "metadata": {},
   "outputs": [
    {
     "name": "stdout",
     "output_type": "stream",
     "text": [
      "['Mercury', 'Venus', 'Earth', 'Mars']\n"
     ]
    }
   ],
   "source": [
    "# Print the closest planets\n",
    "if planet_index == 0:\n",
    "    print('There are no planets closer')\n",
    "else:\n",
    "    print(planets[0:planet_index])\n",
    "\n"
   ]
  },
  {
   "cell_type": "code",
   "execution_count": 8,
   "metadata": {},
   "outputs": [
    {
     "name": "stdout",
     "output_type": "stream",
     "text": [
      "['Saturn', 'Uranus', 'Neptune']\n"
     ]
    }
   ],
   "source": [
    "# Print the farthest planets\n",
    "if planet_index == len(planets):\n",
    "    print('There are no planets further')\n",
    "else:\n",
    "    print(planets[planet_index + 1:])"
   ]
  }
 ],
 "metadata": {
  "interpreter": {
   "hash": "0b2d95e8c77eca16c9bd5597865d217069b09f16b047d66c3b307a843f09b9e6"
  },
  "kernelspec": {
   "display_name": "Python 3.9.5 64-bit",
   "language": "python",
   "name": "python3"
  },
  "language_info": {
   "codemirror_mode": {
    "name": "ipython",
    "version": 3
   },
   "file_extension": ".py",
   "mimetype": "text/x-python",
   "name": "python",
   "nbconvert_exporter": "python",
   "pygments_lexer": "ipython3",
   "version": "3.9.5"
  },
  "orig_nbformat": 4
 },
 "nbformat": 4,
 "nbformat_minor": 2
}
